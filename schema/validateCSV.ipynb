{
 "cells": [
  {
   "cell_type": "markdown",
   "metadata": {},
   "source": [
    "# Helper Functions\n",
    "The code set for some of the fields are extremely long; instead of manually typing them / pasting them into the schema\n",
    "file, I am gonig to read them in from a source file and then ingect them into the schema in the proper format"
   ]
  },
  {
   "cell_type": "code",
   "execution_count": 22,
   "metadata": {},
   "outputs": [],
   "source": [
    "## Load Schema File\n",
    "with open(\"./importManifestSchema.json\",\"r\") as fp:\n",
    "    importSchema = json.load(fp)\n",
    "\n",
    "codeFile = \"./DeID_Upload_File_sample_09102020_FOR_FINAL_REVIEW_v2.xlsx\"\n",
    "codeDF = pd.read_excel(codeFile,'Spec_SiteDropDownCodes')\n",
    "siteCodes = list(codeDF.site.unique())  # This is site column\n",
    "valueCodes = list(codeDF.value.unique()) # this is value column;  site/value are a combo paid\n",
    "Spec_SiteCodes = list(codeDF.Spec_Site.unique())  # This is a concatenation of {site}-{value}\n",
    "\n",
    "del importSchema['properties']['Spec_Site']['type']\n",
    "importSchema['properties']['Spec_Site']['enum'] = Spec_SiteCodes\n",
    "\n",
    "with open(\"./importManifestSchema_wSpecSite.json\",\"w\") as fp:\n",
    "    json.dump(importSchema,fp)"
   ]
  },
  {
   "cell_type": "code",
   "execution_count": 23,
   "metadata": {},
   "outputs": [],
   "source": [
    "### This will take a JSON encoded schema and validate an input CSV file against it\n",
    "# requires modules that are pip installable include pandas, jsonchema and xlrd\n",
    "from jsonschema import validate\n",
    "import pandas as pd\n",
    "import json"
   ]
  },
  {
   "attachments": {},
   "cell_type": "markdown",
   "metadata": {},
   "source": [
    "# Schema Definitions\n",
    "\n",
    "Attachment 6 - WSI Pilot Operations Manual\n",
    "    Downloaded from TEAMS on 10/1/2020\n",
    "    Taken from Table 5: Data Dictionary for DeID Upload File\n",
    "    Columns A-G\n",
    "    \n",
    "Secondary Fields/Codes taken from \n",
    "    DeID_Upload_File_sample_09102020_FOR_FINAL_REVIEW_2.xlsx downloaded 9/30/2020\n",
    "        Tab 'Spec_SiteDropDownCodes' has data for site/value and Spec_Site\n",
    "        \n",
    "        \n",
    "## Noted issues\n",
    "The InputFileName is what is specified in the Attachment 6 Table 5, this has also been called ScannedFileName\n"
   ]
  },
  {
   "cell_type": "code",
   "execution_count": 25,
   "metadata": {},
   "outputs": [],
   "source": [
    "# ## Load Schema File\n",
    "# with open(\"./importManifestSchema.json\",\"r\") as fp:\n",
    "#     importSchema = json.load(fp)"
   ]
  },
  {
   "cell_type": "code",
   "execution_count": 26,
   "metadata": {},
   "outputs": [
    {
     "ename": "ValidationError",
     "evalue": "'resection' is not one of ['Biopsy', 'Resection', 'Cytology Cell Block']\n\nFailed validating 'enum' in schema['properties']['Proc_Type']:\n    {'$id': '#/properties/Proc_Type',\n     'default': '',\n     'description': 'Indicates the procedure type for the slides (i.e. '\n                    'Biopsy, Cytology Cell Block, Resection)',\n     'enum': ['Biopsy', 'Resection', 'Cytology Cell Block'],\n     'examples': ['Biopsy'],\n     'title': 'Proc_Type'}\n\nOn instance['Proc_Type']:\n    'resection'",
     "output_type": "error",
     "traceback": [
      "\u001b[0;31m---------------------------------------------------------------------------\u001b[0m",
      "\u001b[0;31mValidationError\u001b[0m                           Traceback (most recent call last)",
      "\u001b[0;32m<ipython-input-26-19e8e16a31aa>\u001b[0m in \u001b[0;36m<module>\u001b[0;34m\u001b[0m\n\u001b[1;32m      3\u001b[0m \u001b[0;34m\u001b[0m\u001b[0m\n\u001b[1;32m      4\u001b[0m \u001b[0;31m## Run the json schema validation function; convert the dataframe to a dict for the validate function\u001b[0m\u001b[0;34m\u001b[0m\u001b[0;34m\u001b[0m\u001b[0;34m\u001b[0m\u001b[0m\n\u001b[0;32m----> 5\u001b[0;31m \u001b[0mvalidate\u001b[0m\u001b[0;34m(\u001b[0m\u001b[0mcsvDF\u001b[0m\u001b[0;34m.\u001b[0m\u001b[0mto_dict\u001b[0m\u001b[0;34m(\u001b[0m\u001b[0morient\u001b[0m\u001b[0;34m=\u001b[0m\u001b[0;34m'record'\u001b[0m\u001b[0;34m)\u001b[0m\u001b[0;34m[\u001b[0m\u001b[0;36m0\u001b[0m\u001b[0;34m]\u001b[0m\u001b[0;34m,\u001b[0m\u001b[0mschema\u001b[0m\u001b[0;34m=\u001b[0m\u001b[0mimportSchema\u001b[0m\u001b[0;34m)\u001b[0m\u001b[0;34m\u001b[0m\u001b[0;34m\u001b[0m\u001b[0m\n\u001b[0m",
      "\u001b[0;32m~/.local/lib/python3.6/site-packages/jsonschema/validators.py\u001b[0m in \u001b[0;36mvalidate\u001b[0;34m(instance, schema, cls, *args, **kwargs)\u001b[0m\n\u001b[1;32m    932\u001b[0m     \u001b[0merror\u001b[0m \u001b[0;34m=\u001b[0m \u001b[0mexceptions\u001b[0m\u001b[0;34m.\u001b[0m\u001b[0mbest_match\u001b[0m\u001b[0;34m(\u001b[0m\u001b[0mvalidator\u001b[0m\u001b[0;34m.\u001b[0m\u001b[0miter_errors\u001b[0m\u001b[0;34m(\u001b[0m\u001b[0minstance\u001b[0m\u001b[0;34m)\u001b[0m\u001b[0;34m)\u001b[0m\u001b[0;34m\u001b[0m\u001b[0;34m\u001b[0m\u001b[0m\n\u001b[1;32m    933\u001b[0m     \u001b[0;32mif\u001b[0m \u001b[0merror\u001b[0m \u001b[0;32mis\u001b[0m \u001b[0;32mnot\u001b[0m \u001b[0;32mNone\u001b[0m\u001b[0;34m:\u001b[0m\u001b[0;34m\u001b[0m\u001b[0;34m\u001b[0m\u001b[0m\n\u001b[0;32m--> 934\u001b[0;31m         \u001b[0;32mraise\u001b[0m \u001b[0merror\u001b[0m\u001b[0;34m\u001b[0m\u001b[0;34m\u001b[0m\u001b[0m\n\u001b[0m\u001b[1;32m    935\u001b[0m \u001b[0;34m\u001b[0m\u001b[0m\n\u001b[1;32m    936\u001b[0m \u001b[0;34m\u001b[0m\u001b[0m\n",
      "\u001b[0;31mValidationError\u001b[0m: 'resection' is not one of ['Biopsy', 'Resection', 'Cytology Cell Block']\n\nFailed validating 'enum' in schema['properties']['Proc_Type']:\n    {'$id': '#/properties/Proc_Type',\n     'default': '',\n     'description': 'Indicates the procedure type for the slides (i.e. '\n                    'Biopsy, Cytology Cell Block, Resection)',\n     'enum': ['Biopsy', 'Resection', 'Cytology Cell Block'],\n     'examples': ['Biopsy'],\n     'title': 'Proc_Type'}\n\nOn instance['Proc_Type']:\n    'resection'"
     ]
    }
   ],
   "source": [
    "sampleCSVfile = \"./DeID_Upload_File_sample_09082020_FOR_FINAL_REVIEW.xlsx\"\n",
    "csvDF = pd.read_excel(sampleCSVfile,dtype='string')\n",
    "\n",
    "## Run the json schema validation function; convert the dataframe to a dict for the validate function\n",
    "validate(csvDF.to_dict(orient='record')[0],schema=importSchema) \n"
   ]
  },
  {
   "cell_type": "code",
   "execution_count": null,
   "metadata": {},
   "outputs": [],
   "source": []
  },
  {
   "cell_type": "code",
   "execution_count": 11,
   "metadata": {},
   "outputs": [
    {
     "data": {
      "text/plain": [
       "'{\"TokenID\": \"0579XY112001\", \"Proc_Seq\": \"02\", \"Proc_Type\": \"resection\", \"Spec_Site\": \"C71.7\", \"Slide_ID\": \"08\", \"ImageID\": \"0579XY112001_02_08\", \"InputFileName\": \"25-A.svs\"}'"
      ]
     },
     "execution_count": 11,
     "metadata": {},
     "output_type": "execute_result"
    }
   ],
   "source": [
    "json.dumps(csvDF.to_dict(orient='record')[0])"
   ]
  },
  {
   "cell_type": "code",
   "execution_count": null,
   "metadata": {},
   "outputs": [],
   "source": []
  }
 ],
 "metadata": {
  "kernelspec": {
   "display_name": "Python 3",
   "language": "python",
   "name": "python3"
  },
  "language_info": {
   "codemirror_mode": {
    "name": "ipython",
    "version": 3
   },
   "file_extension": ".py",
   "mimetype": "text/x-python",
   "name": "python",
   "nbconvert_exporter": "python",
   "pygments_lexer": "ipython3",
   "version": "3.6.9"
  }
 },
 "nbformat": 4,
 "nbformat_minor": 4
}
