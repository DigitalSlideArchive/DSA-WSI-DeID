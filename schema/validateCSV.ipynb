{
 "cells": [
  {
   "cell_type": "code",
   "execution_count": null,
   "metadata": {},
   "outputs": [],
   "source": [
    "### This will take a JSON encoded schema and validate an input CSV file against it\n",
    "# requires modules that are pip installable include pandas, jsonchema and xlrd\n",
    "from jsonschema import validate\n",
    "import pandas as pd\n",
    "import json"
   ]
  },
  {
   "cell_type": "markdown",
   "metadata": {},
   "source": [
    "# Helper Functions\n",
    "The code set for some of the fields are extremely long; instead of manually typing them / pasting them into the schema\n",
    "file, I am gonig to read them in from a source file and then ingect them into the schema in the proper format"
   ]
  },
  {
   "cell_type": "code",
   "execution_count": null,
   "metadata": {},
   "outputs": [],
   "source": [
    "## Load Schema File\n",
    "with open(\"./importManifestSchema.json\",\"r\") as fp:\n",
    "    importSchema = json.load(fp)\n",
    "\n",
    "codeFile = \"./DeID_Upload_File_sample_09102020_FOR_FINAL_REVIEW_v2.xlsx\"\n",
    "codeDF = pd.read_excel(codeFile,'Spec_SiteDropDownCodes')\n",
    "siteCodes = list(codeDF.site.unique())  # This is site column\n",
    "valueCodes = list(codeDF.value.unique()) # this is value column;  site/value are a combo paid\n",
    "Spec_SiteCodes = list(codeDF.Spec_Site.unique())  # This is a concatenation of {site}-{value}\n",
    "\n",
    "del importSchema['properties']['Spec_Site']['type']\n",
    "importSchema['properties']['Spec_Site']['enum'] = Spec_SiteCodes\n",
    "\n",
    "with open(\"./importManifestSchema_wSpecSite.json\",\"w\") as fp:\n",
    "    json.dump(importSchema,fp)"
   ]
  },
  {
   "attachments": {},
   "cell_type": "markdown",
   "metadata": {},
   "source": [
    "# Schema Definitions\n",
    "\n",
    "Attachment 6 - WSI Pilot Operations Manual\n",
    "    Downloaded from TEAMS on 10/1/2020\n",
    "    Taken from Table 5: Data Dictionary for DeID Upload File\n",
    "    Columns A-G\n",
    "    \n",
    "Secondary Fields/Codes taken from \n",
    "    DeID_Upload_File_sample_09102020_FOR_FINAL_REVIEW_2.xlsx downloaded 9/30/2020\n",
    "        Tab 'Spec_SiteDropDownCodes' has data for site/value and Spec_Site\n",
    "        \n",
    "        \n",
    "## Noted issues\n",
    "The InputFileName is what is specified in the Attachment 6 Table 5, this has also been called ScannedFileName\n"
   ]
  },
  {
   "cell_type": "code",
   "execution_count": null,
   "metadata": {},
   "outputs": [],
   "source": [
    "sampleCSVfile = \"./DeID_Upload_File_sample_09032020_TEST.xlsx\"\n",
    "csvDF = pd.read_excel(sampleCSVfile,dtype='string')\n",
    "## Run the json schema validation function; convert the dataframe to a dict for the validate function\n",
    "validate(csvDF.to_dict(orient='record'),schema=importSchema) \n"
   ]
  },
  {
   "cell_type": "code",
   "execution_count": null,
   "metadata": {},
   "outputs": [],
   "source": [
    "## Dump out an example JSON document\n",
    "json.dumps(csvDF.to_dict(orient='record')[0])"
   ]
  }
 ],
 "metadata": {
  "kernelspec": {
   "display_name": "Python 3",
   "language": "python",
   "name": "python3"
  },
  "language_info": {
   "codemirror_mode": {
    "name": "ipython",
    "version": 3
   },
   "file_extension": ".py",
   "mimetype": "text/x-python",
   "name": "python",
   "nbconvert_exporter": "python",
   "pygments_lexer": "ipython3",
   "version": "3.6.9"
  }
 },
 "nbformat": 4,
 "nbformat_minor": 4
}
